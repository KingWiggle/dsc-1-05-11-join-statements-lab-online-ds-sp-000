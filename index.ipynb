{
 "cells": [
  {
   "cell_type": "markdown",
   "metadata": {},
   "source": [
    "# Join Statements - Lab\n",
    "\n",
    "## Introduction\n",
    "\n",
    "In this lab, you'll practice your knowledge on Join statements.\n",
    "\n",
    "## Objectives\n",
    "\n",
    "You will be able to:\n",
    "- Write queries that make use of various types of Joins\n",
    "- Join tables using foreign keys"
   ]
  },
  {
   "cell_type": "markdown",
   "metadata": {},
   "source": [
    "## CRM Schema\n",
    "\n",
    "In almost all cases, rather then just working with a single table we will typically need data from multiple tables. \n",
    "Doing this requires the use of **joins ** using shared columns from the two tables. \n",
    "\n",
    "In this lab, we'll use the same Customer Relationship Management (CRM) database we used in our lecture before!\n",
    "<img src='Database-Schema.png' width=550>"
   ]
  },
  {
   "cell_type": "markdown",
   "metadata": {},
   "source": [
    "## Connecting to the Database\n",
    "Import the necessary packages and connect to the database **data.sqlite**."
   ]
  },
  {
   "cell_type": "code",
   "execution_count": 87,
   "metadata": {},
   "outputs": [],
   "source": [
    "#Your code here\n",
    "import sqlite3\n",
    "import pandas as pd\n",
    "connection = sqlite3.connect('data.sqlite')\n",
    "cursor = connection.cursor()"
   ]
  },
  {
   "cell_type": "markdown",
   "metadata": {},
   "source": [
    "## Display the names of all the employees in Boston."
   ]
  },
  {
   "cell_type": "code",
   "execution_count": 88,
   "metadata": {},
   "outputs": [
    {
     "data": {
      "text/plain": [
       "[('Murphy', 'Diane', '1002'),\n",
       " ('Patterson', 'Mary', '1056'),\n",
       " ('Firrelli', 'Jeff', '1076'),\n",
       " ('Patterson', 'William', '1088'),\n",
       " ('Bondur', 'Gerard', '1102'),\n",
       " ('Bow', 'Anthony', '1143'),\n",
       " ('Jennings', 'Leslie', '1165'),\n",
       " ('Thompson', 'Leslie', '1166'),\n",
       " ('Firrelli', 'Julie', '1188'),\n",
       " ('Patterson', 'Steve', '1216'),\n",
       " ('Tseng', 'Foon Yue', '1286'),\n",
       " ('Vanauf', 'George', '1323'),\n",
       " ('Bondur', 'Loui', '1337'),\n",
       " ('Hernandez', 'Gerard', '1370'),\n",
       " ('Castillo', 'Pamela', '1401'),\n",
       " ('Bott', 'Larry', '1501'),\n",
       " ('Jones', 'Barry', '1504'),\n",
       " ('Fixter', 'Andy', '1611'),\n",
       " ('Marsh', 'Peter', '1612'),\n",
       " ('King', 'Tom', '1619'),\n",
       " ('Nishi', 'Mami', '1621'),\n",
       " ('Kato', 'Yoshimi', '1625'),\n",
       " ('Gerard', 'Martin', '1702')]"
      ]
     },
     "execution_count": 88,
     "metadata": {},
     "output_type": "execute_result"
    }
   ],
   "source": [
    "#Your code here\n",
    "cursor.execute('''SELECT lastname, firstname, employeeNumber FROM employees;''').fetchall()"
   ]
  },
  {
   "cell_type": "markdown",
   "metadata": {},
   "source": [
    "# Do any offices have no employees?"
   ]
  },
  {
   "cell_type": "code",
   "execution_count": 89,
   "metadata": {},
   "outputs": [
    {
     "data": {
      "text/plain": [
       "False"
      ]
     },
     "execution_count": 89,
     "metadata": {},
     "output_type": "execute_result"
    }
   ],
   "source": [
    "#Your code here\n",
    "not(set(cursor.execute('''SELECT officeCode FROM employees;''').fetchall()) == set(cursor.execute('''SELECT officeCode FROM offices;''').fetchall()))\n"
   ]
  },
  {
   "cell_type": "markdown",
   "metadata": {},
   "source": [
    "## Write 3 Questions of your own and answer them"
   ]
  },
  {
   "cell_type": "markdown",
   "metadata": {},
   "source": [
    "Questions...\n",
    "1. Top 5 sales rep employees with highest customer number?\n",
    "2. Customer with most orders\n",
    "3. Top 5 most ordered products\n"
   ]
  },
  {
   "cell_type": "code",
   "execution_count": 91,
   "metadata": {},
   "outputs": [
    {
     "data": {
      "text/plain": [
       "[[('Pamela', 'Castillo', '1401')],\n",
       " [('Barry', 'Jones', '1504')],\n",
       " [('George', 'Vanauf', '1323')],\n",
       " [('Larry', 'Bott', '1501')],\n",
       " [('Foon Yue', 'Tseng', '1286')]]"
      ]
     },
     "execution_count": 91,
     "metadata": {},
     "output_type": "execute_result"
    }
   ],
   "source": [
    "# Top 5 sales rep employees with most customers\n",
    "customer_count_list = cursor.execute('''SELECT salesRepEmployeeNumber, COUNT(salesRepEmployeeNumber) FROM customers GROUP BY salesRepEmployeeNumber ORDER BY COUNT(salesRepEmployeeNumber) DESC LIMIT 6;''').fetchall()\n",
    "top_five = []\n",
    "\n",
    "for i in range(len(customer_count_list)):\n",
    "    if customer_count_list[i][0] != '':\n",
    "        sql_command = '''SELECT firstname, lastname, employeeNumber \n",
    "                            FROM employees\n",
    "                            WHERE employeeNumber = \"''' + str(customer_count_list[i][0]) + '''\"'''\n",
    "        top_five.append(cursor.execute(sql_command).fetchall())\n",
    "\n",
    "top_five\n"
   ]
  },
  {
   "cell_type": "code",
   "execution_count": 109,
   "metadata": {},
   "outputs": [
    {
     "data": {
      "text/plain": [
       "[('141',\n",
       "  'Euro+ Shopping Channel',\n",
       "  'Freyre',\n",
       "  'Diego ',\n",
       "  '(91) 555 94 44',\n",
       "  'C/ Moralzarzal, 86',\n",
       "  '',\n",
       "  'Madrid',\n",
       "  '',\n",
       "  '28034',\n",
       "  'Spain',\n",
       "  '1370',\n",
       "  '227600.00')]"
      ]
     },
     "execution_count": 109,
     "metadata": {},
     "output_type": "execute_result"
    }
   ],
   "source": [
    "# Customer with most orders\n",
    "results = cursor.execute('''SELECT * FROM orders o\n",
    "                        JOIN customers c\n",
    "                        USING(customerNumber)''').fetchall()\n",
    "\n",
    "df = pd.DataFrame(results)\n",
    "df.columns = [i[0] for i in cursor.description]\n",
    "top_customer_id = df['customerNumber'].value_counts().index[0]\n",
    "\n",
    "cursor.execute('''SELECT * FROM customers WHERE customerNumber = \"'''+str(top_customer_id)+'''\"''').fetchall()"
   ]
  },
  {
   "cell_type": "code",
   "execution_count": 114,
   "metadata": {},
   "outputs": [
    {
     "data": {
      "text/plain": [
       "[('S18_3232',\n",
       "  '1992 Ferrari 360 Spider red',\n",
       "  'Classic Cars',\n",
       "  '1:18',\n",
       "  'Unimax Art Galleries',\n",
       "  'his replica features opening doors, superb detail and craftsmanship, working steering system, opening forward compartment, opening rear trunk with removable spare, 4 wheel independent spring suspension as well as factory baked enamel finish.',\n",
       "  '8347',\n",
       "  '77.90',\n",
       "  '169.34')]"
      ]
     },
     "execution_count": 114,
     "metadata": {},
     "output_type": "execute_result"
    }
   ],
   "source": [
    "#Most ordered product\n",
    "product_id = cursor.execute('''SELECT productCode, COUNT(productCode) FROM orderDetails \n",
    "                    GROUP BY productCode\n",
    "                    ORDER BY COUNT(productCode) DESC;''').fetchall()[0][0]\n",
    "\n",
    "cursor.execute('''SELECT * FROM products\n",
    "                    WHERE productCode = \"'''+str(product_id)+'''\"''').fetchall()"
   ]
  },
  {
   "cell_type": "markdown",
   "metadata": {},
   "source": [
    "## Level Up: Display the names of each product each employee has sold."
   ]
  },
  {
   "cell_type": "code",
   "execution_count": null,
   "metadata": {},
   "outputs": [],
   "source": [
    "# Your code here"
   ]
  },
  {
   "cell_type": "markdown",
   "metadata": {},
   "source": [
    "## Level Up: Display the Number of Products each Employee Has sold"
   ]
  },
  {
   "cell_type": "code",
   "execution_count": null,
   "metadata": {},
   "outputs": [],
   "source": [
    "#Your code here"
   ]
  },
  {
   "cell_type": "markdown",
   "metadata": {},
   "source": [
    "## Summary"
   ]
  },
  {
   "cell_type": "markdown",
   "metadata": {},
   "source": [
    "Congrats! You now know how to use Join statements, along with leveraging your foreign keys knowledge!"
   ]
  }
 ],
 "metadata": {
  "kernelspec": {
   "display_name": "Python 3",
   "language": "python",
   "name": "python3"
  },
  "language_info": {
   "codemirror_mode": {
    "name": "ipython",
    "version": 3
   },
   "file_extension": ".py",
   "mimetype": "text/x-python",
   "name": "python",
   "nbconvert_exporter": "python",
   "pygments_lexer": "ipython3",
   "version": "3.7.1"
  }
 },
 "nbformat": 4,
 "nbformat_minor": 2
}
